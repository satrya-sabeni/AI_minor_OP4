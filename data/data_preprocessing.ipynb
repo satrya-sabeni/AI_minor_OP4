{
 "cells": [
  {
   "cell_type": "code",
   "execution_count": 8,
   "metadata": {},
   "outputs": [],
   "source": [
    "import os\n",
    "import re"
   ]
  },
  {
   "cell_type": "code",
   "execution_count": 10,
   "metadata": {},
   "outputs": [],
   "source": [
    "raw_image_list = next(os.walk('open_hand/images'))[2]"
   ]
  },
  {
   "cell_type": "code",
   "execution_count": 12,
   "metadata": {},
   "outputs": [],
   "source": [
    "image_list = []\n",
    "for i in raw_image_list:\n",
    "    o = i.split('.')[0]\n",
    "    image_list.append(o)"
   ]
  },
  {
   "cell_type": "code",
   "execution_count": 14,
   "metadata": {},
   "outputs": [
    {
     "name": "stdout",
     "output_type": "stream",
     "text": [
      "portrait-handsome-corporate-business-man-taking-oath-isolated-white-background-104317436\n",
      "12061585-bild-von-männlicher-hand-zeigt-fünf-finger-auf-weißem-hintergrund\n",
      "ondulation-mignonne-scandinave-de-jeune-fille-44755619\n",
      "bonjour-bonjour-main-de-ondulation-de-femme-accueil-portrait-sur-le-fond-blanc-77706647\n",
      "bonjour-main-de-ondulation-femme-fond-blanc-98562826\n",
      "depositphotos_100892912-stock-photo-sporty-woman-waving-hand\n",
      "waving\n",
      "two-hand-wave-asian-girl-greeting-friends-half-cute-good-looking-sleeveless-top-light-brown-hair-waving-both-hands-58611546\n",
      "depositphotos_165143780-stockafbeelding-vrouw-hand-palm-gesoleerd-op\n",
      "11066967-a-businessman-waving-\n",
      "istockphoto-992667688-612x612\n",
      "hand-waving-D1AP7T\n",
      "39489629-open-hand\n",
      "istockphoto-472586826-612x612\n",
      "500_F_214017141_t5aGDw2KbmyuNZh6ZAzsl25zKhAAhvXR\n",
      "24189359-businessman-taking-oath\n",
      "flat\n",
      "67958857-young-guy-dressing-urban-street-style-kindly-waving-isolated-on-white\n",
      "8\n",
      "depositphotos_237673462-stock-photo-handsome-happy-young-man-waving\n",
      "25100787-handsome-male-manager-waving-to-his-colleague\n",
      "istockphoto-916407224-1024x1024\n",
      "WomanTakingOath_618x355\n",
      "closeup-of-a-hand-waving-bye-bye-matted_4kxt_h6__F0000\n",
      "4k-compilation-montage-people-wave-with-hand-caucasian-woman-and-man-asian-woman-black-man-green-screen-studio_rqlm9aabx_thumbnail-full11\n",
      "gettyimages-649746926-170667a\n",
      "images-6\n",
      "istockphoto-628823708-612x612\n",
      "2519035-five-fingers-being-held-in-the-air-by-a-females-hand-isolated-on-white\n",
      "35563322-business-man-wave-hand-welcome\n",
      "8-1\n",
      "images-4\n",
      "gettyimages-496443599-1024x1024\n",
      "10168966-man-waving-his-hand\n",
      "240_F_76224008_7gEWAdByXizQarP8ib90uoRKvXhevsrt\n",
      "rahul-gandhi-pti_1_0\n",
      "500_F_202580873_0z2dQvt5gyKDW8CemwmjQaXhbCgMYkzO\n",
      "depositphotos_193511940-stock-video-portrait-of-happy-asian-man\n",
      "trump-waving-300x200\n",
      "images-5\n",
      "man-open-palm-of-left-hand-RBMM90\n",
      "images-1\n",
      "gettyimages-90372037-170667a\n",
      "een-mannelijke-hand-met-open-palm-en-vinger-naar-boven_41451-798-1\n",
      "51WH-A4U6OL\n",
      "240_F_76229827_m6ryxMVbzrIosU9fHLqlmGnlLLiZ1Oxe\n",
      "manoaperta-khlG-U43180168154604TuG-593x443@Corriere-Web-Sezioni\n",
      "gettyimages-pha297000046-612x612\n",
      "images-2\n",
      "portrait-woman-waving-to-camera-47101938\n",
      "depositphotos_61375857-stock-video-young-handsome-black-man-waves\n",
      "images-3\n",
      "gettyimages-175400425-612x612\n",
      "gettyimages-563946289-1024x1024\n",
      "man-talking-cell-phone-waves-hand-wave-isolated-white-35293392\n",
      "istockphoto-637624618-612x612\n",
      "gettyimages-171265536-612x612\n",
      "hello-gesture-by-black-man-waving-hand_bsyy7ltdg_thumbnail-full02\n",
      "2018-10-29-open-hand\n",
      "oath\n",
      "6-2\n",
      "alguien-saludar-retratos_csp6355608\n",
      "hombre-negocios-amigable-saludando-mano-mirando-camara_1262-14936\n",
      "bonjour-main-de-ondulation-femme-fond-blanc-98562826-1\n",
      "happy-student-boy-school-bag-waving-hand-childhood-education-greeting-gesture-people-concept-smiling-62929045\n",
      "businessman-taking-oath-stock-photography__k5260625\n",
      "innenseite-der-hand-d7dkex\n",
      "istockphoto-183331893-612x612\n",
      "589c867864b351149f22a845\n",
      "hand-wave-clipart-79847\n",
      "istockphoto-185224058-612x612\n",
      "6-1\n",
      "gettyimages-184973961-612x612\n",
      "portrait-of-a-mature-man-in-blue-shirt-wave-hand-welcome-RY8DP6\n",
      "44902619-young-lawyer-making-oath-or-swearing-gesture-with-one-hand-on-the-heart-and-the-other-one-up-as-pled\n",
      "4403235-a-serious-male-judge-taking-oath-in-a-courtroom-isolated-on-white-background-shallow-depth-of-field\n",
      "image1170x530cropped\n",
      "obama_100996757\n",
      "een-mannelijke-hand-met-open-palm-en-vinger-naar-boven_41451-798\n",
      "1-1\n",
      "P26_00068\n",
      "500_F_189899468_wvLagMOtJnTVO6DbExiFn9Ix6nJWjOaW\n",
      "prince-william-kate-middleton-waving-new-t\n",
      "5\n",
      "4712698-6233049-image-a-13_1538512255568\n",
      "attractive-business-man-taking-oath-gesture-looking-serious-gray-background-attractive-business-man-taking-oath-gesture-112662573\n",
      "15714153-open-hand-give-me-five\n",
      "000349824\n",
      "6\n",
      "man-winkende-hand-waehrend-laechelnd_1187-1788\n",
      "hello-waving-hand-excited-young-casual-man-white-background_bbzqc9jje_thumbnail-full05\n",
      "onduler-girl-photo-sous-licence_csp15885320\n",
      "1\n",
      "images\n",
      "5-1\n",
      "SILVIO-BERLUSCONI-WAVE\n"
     ]
    }
   ],
   "source": [
    "for i in image_list:\n",
    "    print(i)"
   ]
  },
  {
   "cell_type": "code",
   "execution_count": null,
   "metadata": {},
   "outputs": [],
   "source": []
  }
 ],
 "metadata": {
  "kernelspec": {
   "display_name": "Python 3",
   "language": "python",
   "name": "python3"
  },
  "language_info": {
   "codemirror_mode": {
    "name": "ipython",
    "version": 3
   },
   "file_extension": ".py",
   "mimetype": "text/x-python",
   "name": "python",
   "nbconvert_exporter": "python",
   "pygments_lexer": "ipython3",
   "version": "3.6.8"
  }
 },
 "nbformat": 4,
 "nbformat_minor": 2
}
